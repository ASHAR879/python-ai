{
 "cells": [
  {
   "cell_type": "code",
   "execution_count": 1,
   "id": "60fbde68-baf7-42c8-bba4-2082dc88bb24",
   "metadata": {},
   "outputs": [],
   "source": [
    "import  numpy as np"
   ]
  },
  {
   "cell_type": "code",
   "execution_count": 4,
   "id": "97c404c3-d74e-4443-85b2-e711be95ea95",
   "metadata": {},
   "outputs": [],
   "source": [
    "ashar=np.array((2,2))"
   ]
  },
  {
   "cell_type": "code",
   "execution_count": 8,
   "id": "37b741c9-359a-4535-bbf4-4b6d880bf22c",
   "metadata": {},
   "outputs": [
    {
     "data": {
      "text/plain": [
       "array([2, 2])"
      ]
     },
     "execution_count": 8,
     "metadata": {},
     "output_type": "execute_result"
    }
   ],
   "source": [
    "ashar"
   ]
  },
  {
   "cell_type": "code",
   "execution_count": 9,
   "id": "b5c9b230-edd3-433a-a8a2-556886bee625",
   "metadata": {},
   "outputs": [
    {
     "name": "stdout",
     "output_type": "stream",
     "text": [
      "[2 2]\n"
     ]
    }
   ],
   "source": [
    "print(ashar)"
   ]
  },
  {
   "cell_type": "code",
   "execution_count": null,
   "id": "d58ca5c4-9c59-4f65-892b-db47b805c5da",
   "metadata": {},
   "outputs": [],
   "source": []
  }
 ],
 "metadata": {
  "kernelspec": {
   "display_name": "Python 3 (ipykernel)",
   "language": "python",
   "name": "python3"
  },
  "language_info": {
   "codemirror_mode": {
    "name": "ipython",
    "version": 3
   },
   "file_extension": ".py",
   "mimetype": "text/x-python",
   "name": "python",
   "nbconvert_exporter": "python",
   "pygments_lexer": "ipython3",
   "version": "3.13.0"
  }
 },
 "nbformat": 4,
 "nbformat_minor": 5
}
