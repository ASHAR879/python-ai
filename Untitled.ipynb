{
 "cells": [
  {
   "cell_type": "markdown",
   "id": "3bd5c381-b3c9-4b50-975a-fa9550b2ab70",
   "metadata": {},
   "source": [
    "###  Introduction"
   ]
  },
  {
   "cell_type": "code",
   "execution_count": 7,
   "id": "a04dc24e-4afa-44ad-aa38-3d6679a8b0d5",
   "metadata": {},
   "outputs": [
    {
     "name": "stdout",
     "output_type": "stream",
     "text": [
      "My name is ashar\n"
     ]
    }
   ],
   "source": [
    "print( 'My name is ashar')"
   ]
  },
  {
   "cell_type": "code",
   "execution_count": 12,
   "id": "9a67b695-b512-4c4b-bb55-84ae2844b955",
   "metadata": {},
   "outputs": [
    {
     "name": "stdin",
     "output_type": "stream",
     "text": [
      "my is name = Ashar \n",
      "age = 25\n",
      "Company = it\n"
     ]
    }
   ],
   "source": [
    "name=input('my is name =',)\n",
    "Age=input('age =',)\n",
    "Work=input('Company =',)\n",
    "\n",
    "\n"
   ]
  },
  {
   "cell_type": "code",
   "execution_count": 13,
   "id": "77136432-b95f-4bed-b6ec-89afdd5db353",
   "metadata": {},
   "outputs": [],
   "source": [
    "num= 123\n",
    "num2=120\n",
    "sum=num+num2"
   ]
  },
  {
   "cell_type": "code",
   "execution_count": 14,
   "id": "f8f36417-8b87-45b5-a3a9-6bba5227e738",
   "metadata": {},
   "outputs": [
    {
     "name": "stdout",
     "output_type": "stream",
     "text": [
      "sum is = 243\n"
     ]
    }
   ],
   "source": [
    "print('sum is =',sum)"
   ]
  },
  {
   "cell_type": "code",
   "execution_count": 16,
   "id": "bfb2f12e-8130-4ae5-bfe4-24c5a2eece86",
   "metadata": {},
   "outputs": [
    {
     "name": "stdout",
     "output_type": "stream",
     "text": [
      "RED pink black\n"
     ]
    }
   ],
   "source": [
    "a,b,e= \"RED\",\"pink\",\"black\"\n",
    "print(a,b,e)"
   ]
  },
  {
   "cell_type": "code",
   "execution_count": null,
   "id": "42513946-c8b6-48c4-815c-96593770207c",
   "metadata": {},
   "outputs": [],
   "source": [
    "A="
   ]
  }
 ],
 "metadata": {
  "kernelspec": {
   "display_name": "Python 3 (ipykernel)",
   "language": "python",
   "name": "python3"
  },
  "language_info": {
   "codemirror_mode": {
    "name": "ipython",
    "version": 3
   },
   "file_extension": ".py",
   "mimetype": "text/x-python",
   "name": "python",
   "nbconvert_exporter": "python",
   "pygments_lexer": "ipython3",
   "version": "3.13.0"
  }
 },
 "nbformat": 4,
 "nbformat_minor": 5
}
