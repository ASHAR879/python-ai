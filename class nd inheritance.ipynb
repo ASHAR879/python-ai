{
 "cells": [
  {
   "cell_type": "markdown",
   "id": "42ad0bb9-1195-4116-b0fa-f648dc9b715d",
   "metadata": {},
   "source": [
    "### Parent class"
   ]
  },
  {
   "cell_type": "code",
   "execution_count": 2,
   "id": "d3c281d5-edf0-4706-ad5e-256f14693632",
   "metadata": {},
   "outputs": [
    {
     "name": "stdout",
     "output_type": "stream",
     "text": [
      "ford was made in year 1999 and its colur is black \n",
      "mehran was made in year 2009 and its colur is white \n"
     ]
    }
   ],
   "source": [
    "class vehical:# making class Parent\n",
    "    def __init__(self, typeofvehicle,year,colour): #defing function method constructer\n",
    "        self.typeofvehicle=typeofvehicle\n",
    "        self.year=year\n",
    "        self.colour=colour\n",
    "    def vehicle_details(self):\n",
    "        print(f\"{self.typeofvehicle} was made in year {self.year} and its colur is {self.colour} \")\n",
    "mode=vehical('ford',1999,'black') #making object \n",
    "mode_2=vehical('mehran',2009,'white')\n",
    "\n",
    "#print(mode.car,mode.year) #Calling by object\n",
    "#print(mode_2.car,mode.year)\n",
    "\n",
    "mode.vehicle_details()\n",
    "mode_2.vehicle_details()\n",
    "#############################################################class chlid\n",
    "\n",
    "\n"
   ]
  },
  {
   "cell_type": "markdown",
   "id": "c31d8f56-b261-4318-a3f3-6b8acc8ca60e",
   "metadata": {},
   "source": [
    "### Chlid class"
   ]
  },
  {
   "cell_type": "code",
   "execution_count": 10,
   "id": "7601667d-908f-4684-86d5-22a4a5ce87d7",
   "metadata": {},
   "outputs": [
    {
     "name": "stdout",
     "output_type": "stream",
     "text": [
      "HONDA125 was made in 1979 and its colour is RED \n",
      "SUPER ASIA was made in 2009 and its colour is  grey\n"
     ]
    }
   ],
   "source": [
    "class bike(vehical):\n",
    "   def __init__(self,typeofvehicle,year,colour):\n",
    "     super().__init__(typeofvehicle,year,colour)\n",
    "   def vehicle_details(self):\n",
    "        print(f\"{self.typeofvehicle} was made in {self.year} and its colour is {self.colour}\")\n",
    "       \n",
    "modee=bike('HONDA125',1979,'RED ') #making object \n",
    "mode_22=bike('SUPER ASIA',2009,' grey')  \n",
    "modee.vehicle_details()\n",
    "mode_22.vehicle_details()\n"
   ]
  },
  {
   "cell_type": "code",
   "execution_count": null,
   "id": "9c1939b2-c33b-4d83-a2df-84b52282e6f6",
   "metadata": {},
   "outputs": [],
   "source": []
  },
  {
   "cell_type": "code",
   "execution_count": 46,
   "id": "ee6e69c9-82a6-4c83-8a5c-c76b3d3a7f13",
   "metadata": {},
   "outputs": [
    {
     "name": "stdout",
     "output_type": "stream",
     "text": [
      "computer parent classs constructer\n",
      "NEW INVENTION START\n",
      "model :  vivo\n",
      "mobile color  : black\n"
     ]
    }
   ],
   "source": [
    "class computer :\n",
    "    def __init__(self):\n",
    "        self.ram='8GB'\n",
    "        self.storage='512GB'\n",
    "        self.processor='15'\n",
    "        print('computer parent classs constructer')\n",
    "    def show(self):\n",
    "        print('ram : ',self.ram)\n",
    "        print('storage :',self.storage)\n",
    "        print('processor :',self.processor)\n",
    "class Mobile(computer):\n",
    "    def __init__(self):\n",
    "        super().__init__()\n",
    "        self.model='vivo'\n",
    "        self.colour='black'\n",
    "    def show(self):\n",
    "       print('NEW INVENTION START')\n",
    "       print('model : ',self.model)\n",
    "       print('mobile color  :',self.colour)\n",
    "      \n",
    "\n",
    "company2=Mobile()\n",
    "company2.show()\n",
    "\n",
    "       "
   ]
  },
  {
   "cell_type": "code",
   "execution_count": null,
   "id": "311d6de1-ba84-4cee-bf5f-b6d85c68a2c0",
   "metadata": {},
   "outputs": [],
   "source": []
  },
  {
   "cell_type": "code",
   "execution_count": null,
   "id": "49f1b8f8-fd39-44d9-818b-2b12cbdc4007",
   "metadata": {},
   "outputs": [],
   "source": []
  },
  {
   "cell_type": "code",
   "execution_count": null,
   "id": "df8e733f-6cac-4591-9432-de7414090f1c",
   "metadata": {},
   "outputs": [],
   "source": []
  },
  {
   "cell_type": "code",
   "execution_count": null,
   "id": "613d2fbd-03ff-42d0-9342-062139271d63",
   "metadata": {},
   "outputs": [],
   "source": []
  },
  {
   "cell_type": "code",
   "execution_count": null,
   "id": "730b4f1c-b451-4a8a-93ab-7912357baa5d",
   "metadata": {},
   "outputs": [],
   "source": []
  },
  {
   "cell_type": "code",
   "execution_count": null,
   "id": "cb504c00-7117-4c17-a1c4-e23705bae044",
   "metadata": {},
   "outputs": [],
   "source": []
  },
  {
   "cell_type": "code",
   "execution_count": null,
   "id": "6fd5d3b0-c128-456c-ae21-9a4e61183eda",
   "metadata": {},
   "outputs": [],
   "source": []
  },
  {
   "cell_type": "code",
   "execution_count": 19,
   "id": "1e51e9dd-987e-4fd3-b309-55d32ab85b5d",
   "metadata": {},
   "outputs": [
    {
     "name": "stdout",
     "output_type": "stream",
     "text": [
      "ford 1999\n",
      "mehran 1999\n"
     ]
    }
   ],
   "source": [
    "class vehical:# making class \n",
    "    def __init__(self, car,year): #defing function method constructer\n",
    "        self.car=car\n",
    "        self.year=year\n",
    "\n",
    "mode=vehical('ford',1999)#making object \n",
    "mode_2=vehical('mehran',2009)\n",
    "\n",
    "print(mode.car,mode.year) #Calling by object\n",
    "print(mode_2.car,mode.year)"
   ]
  },
  {
   "cell_type": "code",
   "execution_count": null,
   "id": "af17a653-aa17-46a6-814f-e0c1c2f3bbdd",
   "metadata": {},
   "outputs": [],
   "source": []
  }
 ],
 "metadata": {
  "kernelspec": {
   "display_name": "Python 3 (ipykernel)",
   "language": "python",
   "name": "python3"
  },
  "language_info": {
   "codemirror_mode": {
    "name": "ipython",
    "version": 3
   },
   "file_extension": ".py",
   "mimetype": "text/x-python",
   "name": "python",
   "nbconvert_exporter": "python",
   "pygments_lexer": "ipython3",
   "version": "3.13.0"
  }
 },
 "nbformat": 4,
 "nbformat_minor": 5
}
