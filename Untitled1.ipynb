{
 "cells": [
  {
   "cell_type": "code",
   "execution_count": 1,
   "id": "5bfe2c91-3446-4bba-9366-acc77659c60b",
   "metadata": {},
   "outputs": [],
   "source": [
    "a=9"
   ]
  },
  {
   "cell_type": "code",
   "execution_count": 2,
   "id": "4c1c84c8-431b-4c75-843a-23698e9abeb7",
   "metadata": {},
   "outputs": [],
   "source": [
    "b=float(a)"
   ]
  },
  {
   "cell_type": "code",
   "execution_count": 3,
   "id": "ef8aae41-5388-468b-b8b9-6094a9b48c6e",
   "metadata": {},
   "outputs": [
    {
     "data": {
      "text/plain": [
       "9.0"
      ]
     },
     "execution_count": 3,
     "metadata": {},
     "output_type": "execute_result"
    }
   ],
   "source": [
    "b"
   ]
  },
  {
   "cell_type": "code",
   "execution_count": 5,
   "id": "dcb04340-9dae-4e57-9b5b-b030bdb302fd",
   "metadata": {},
   "outputs": [],
   "source": [
    "a1=\"my name is ashar\""
   ]
  },
  {
   "cell_type": "code",
   "execution_count": 9,
   "id": "374960f0-c093-4ad3-9a7f-aebbddcbcdb7",
   "metadata": {},
   "outputs": [],
   "source": [
    "b1= \"i live in pakistan\"\n"
   ]
  },
  {
   "cell_type": "code",
   "execution_count": 11,
   "id": "678d6b9e-ff8f-4bde-a207-0c8efecf8daa",
   "metadata": {},
   "outputs": [],
   "source": [
    "e=a1 + \" \"+b1"
   ]
  },
  {
   "cell_type": "code",
   "execution_count": 12,
   "id": "cd670016-3e67-420d-afec-17e865a92ee5",
   "metadata": {},
   "outputs": [
    {
     "data": {
      "text/plain": [
       "'my name is ashar i live in pakistan'"
      ]
     },
     "execution_count": 12,
     "metadata": {},
     "output_type": "execute_result"
    }
   ],
   "source": [
    "e"
   ]
  },
  {
   "cell_type": "code",
   "execution_count": null,
   "id": "66a3bafb-3fc6-48e0-977a-208583f52847",
   "metadata": {},
   "outputs": [],
   "source": [
    "# Bitwise operators\n",
    "\n",
    "a = 60            # 60 = 0011 1100 \n",
    "b = 13            # 13 = 0000 1101 \n",
    "c = 0\n",
    "\n",
    "c = a & b;        # 12 = 0000 1100\n",
    "\n",
    "print(\"Line 1 - Value of c is \", c)\n",
    "\n",
    "c = a | b;        # 61 = 0011 1101\n",
    "\n",
    "print(\"Line 2 - Value of c is \", c)\n",
    "\n",
    "c = a ^ b;        # 49 = 0011 0001\n",
    "\n",
    "\n",
    "print(\"Line 3 - Value of c is \", c)\n",
    "\n",
    "c = ~a;           # -61 = 1100 0011\n",
    "\n",
    "print(\"Line 4 - Value of c is \", c)\n",
    "\n",
    "c = a << 2;       # 240 = 1111 0000\n"
   ]
  }
 ],
 "metadata": {
  "kernelspec": {
   "display_name": "Python 3 (ipykernel)",
   "language": "python",
   "name": "python3"
  },
  "language_info": {
   "codemirror_mode": {
    "name": "ipython",
    "version": 3
   },
   "file_extension": ".py",
   "mimetype": "text/x-python",
   "name": "python",
   "nbconvert_exporter": "python",
   "pygments_lexer": "ipython3",
   "version": "3.13.0"
  }
 },
 "nbformat": 4,
 "nbformat_minor": 5
}
