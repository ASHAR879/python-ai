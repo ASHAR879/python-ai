{
 "cells": [
  {
   "cell_type": "markdown",
   "id": "e3f50444",
   "metadata": {},
   "source": [
    "INTRODUCTION"
   ]
  },
  {
   "cell_type": "code",
   "execution_count": 1,
   "id": "9e779012",
   "metadata": {},
   "outputs": [
    {
     "name": "stdout",
     "output_type": "stream",
     "text": [
      "My name is Ashar .\n",
      "I am 24 years old.i am a student of computer science engineering.\n",
      "I am from Pakistan.\n",
      "I love coding and problem solving.\n",
      "I want to become a successful software engineer in future.i love to learn new technologies and explore new things.\n",
      "I am passionate about my work and always strive to give my best.\n",
      "I believe in hard work and dedication.\n",
      "I am a quick learner and always eager to learn new things.\n",
      "I am a team player and love to work in a team.\n",
      "I am also a good communicator and can easily express my ideas and thoughts.\n",
      "I am confident that I will achieve my goals and become a successful software engineer in future.\n",
      "Thank you.\n"
     ]
    }
   ],
   "source": [
    "print(\"My name is Ashar .\\nI am 24 years old.i am a student of computer science engineering.\\nI am from Pakistan.\\nI love coding and problem solving.\\nI want to become a successful software engineer in future.i love to learn new technologies and explore new things.\\nI am passionate about my work and always strive to give my best.\\nI believe in hard work and dedication.\\nI am a quick learner and always eager to learn new things.\\nI am a team player and love to work in a team.\\nI am also a good communicator and can easily express my ideas and thoughts.\\nI am confident that I will achieve my goals and become a successful software engineer in future.\\nThank you.\")"
   ]
  },
  {
   "cell_type": "code",
   "execution_count": null,
   "id": "4933f779",
   "metadata": {},
   "outputs": [
    {
     "name": "stdout",
     "output_type": "stream",
     "text": [
      "ns\n"
     ]
    }
   ],
   "source": []
  },
  {
   "cell_type": "code",
   "execution_count": null,
   "id": "10554af9",
   "metadata": {},
   "outputs": [],
   "source": []
  }
 ],
 "metadata": {
  "kernelspec": {
   "display_name": "Python 3 (ipykernel)",
   "language": "python",
   "name": "python3"
  },
  "language_info": {
   "codemirror_mode": {
    "name": "ipython",
    "version": 3
   },
   "file_extension": ".py",
   "mimetype": "text/x-python",
   "name": "python",
   "nbconvert_exporter": "python",
   "pygments_lexer": "ipython3",
   "version": "3.13.0"
  }
 },
 "nbformat": 4,
 "nbformat_minor": 5
}
