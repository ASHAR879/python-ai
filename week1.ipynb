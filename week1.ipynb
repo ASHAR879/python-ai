{
 "cells": [
  {
   "cell_type": "markdown",
   "id": "2c7b7dc4-31f9-4d27-a1cb-db39c7e37cb1",
   "metadata": {},
   "source": [
    "## List"
   ]
  },
  {
   "cell_type": "code",
   "execution_count": 9,
   "id": "c8966b35-803b-4883-b13f-d6e4c2f74b7c",
   "metadata": {},
   "outputs": [
    {
     "name": "stdout",
     "output_type": "stream",
     "text": [
      "['apple', 'mango', 'cherry']\n",
      "<class 'list'>\n"
     ]
    }
   ],
   "source": [
    "L= [\"apple\",\"mango\",\"cherry\"]\n",
    "print(L)\n",
    "print(type(L))"
   ]
  },
  {
   "cell_type": "markdown",
   "id": "bf476ee5-b6d2-406b-b8e6-d404deab6427",
   "metadata": {},
   "source": [
    "## Tuple"
   ]
  },
  {
   "cell_type": "code",
   "execution_count": 2,
   "id": "795706b5-c464-43c6-82ee-da8a4e73c6c6",
   "metadata": {},
   "outputs": [
    {
     "name": "stdout",
     "output_type": "stream",
     "text": [
      "<class 'tuple'>\n"
     ]
    }
   ],
   "source": [
    "t= (\"car \", \"Bike\",\"plane\")\n",
    "t\n",
    "print(type(t))"
   ]
  },
  {
   "cell_type": "markdown",
   "id": "8802c505-be61-4ab5-af4f-90b3093d48db",
   "metadata": {},
   "source": [
    "## String"
   ]
  },
  {
   "cell_type": "code",
   "execution_count": 20,
   "id": "825ced7b-be5d-4f41-9318-dc20b8c9777d",
   "metadata": {},
   "outputs": [
    {
     "name": "stdout",
     "output_type": "stream",
     "text": [
      "<class 'str'>\n"
     ]
    }
   ],
   "source": [
    "s= \"sargodha is best\"\n",
    "s\n",
    "print(type(s))"
   ]
  },
  {
   "cell_type": "markdown",
   "id": "0c0d668a-2e9e-4719-8bf0-f27202cd9ec4",
   "metadata": {},
   "source": [
    "## Set"
   ]
  },
  {
   "cell_type": "code",
   "execution_count": 23,
   "id": "4fc6c079-56de-448e-896f-4e30820b3031",
   "metadata": {},
   "outputs": [
    {
     "name": "stdout",
     "output_type": "stream",
     "text": [
      "{'computer', 'ali', 101}\n",
      "<class 'set'>\n"
     ]
    }
   ],
   "source": [
    "sett={ 101, 'ali','computer'}\n",
    "print(sett)\n",
    "print(type(sett))"
   ]
  },
  {
   "cell_type": "markdown",
   "id": "8fb066d9-5ae5-4cd8-80cf-3e005659ca31",
   "metadata": {},
   "source": [
    "## Dictionary "
   ]
  },
  {
   "cell_type": "code",
   "execution_count": 3,
   "id": "c7e8f6c3-5ac8-460b-957a-a388883c0177",
   "metadata": {},
   "outputs": [
    {
     "name": "stdout",
     "output_type": "stream",
     "text": [
      "<class 'dict'>\n",
      "{'roll no': 101, 'classs': 'bio', 'Marks': 99}\n"
     ]
    }
   ],
   "source": [
    "d={'roll no': 101,\n",
    "   'classs': 'bio',\n",
    "   'Marks': 99}\n",
    "d\n",
    "print(type(d))\n",
    "\n",
    "print(d)\n",
    "\n",
    "    "
   ]
  },
  {
   "cell_type": "markdown",
   "id": "4eacbeca-8a9c-40a9-bc4b-fd9577049191",
   "metadata": {},
   "source": [
    "## Loops\n",
    "\n",
    "### While loop:"
   ]
  },
  {
   "cell_type": "code",
   "execution_count": 11,
   "id": "89d86714-0559-4219-9ff0-538306256c4c",
   "metadata": {},
   "outputs": [
    {
     "name": "stdout",
     "output_type": "stream",
     "text": [
      "5\n",
      "4\n",
      "3\n",
      "2\n",
      "1\n"
     ]
    }
   ],
   "source": [
    "i=5\n",
    "\n",
    "while i>0:\n",
    "    print(i)\n",
    "    i=i-1\n"
   ]
  },
  {
   "cell_type": "markdown",
   "id": "57014355-bb81-41f5-8a63-4cafa37640f5",
   "metadata": {},
   "source": [
    "### For loop:\n"
   ]
  },
  {
   "cell_type": "code",
   "execution_count": 12,
   "id": "f12ce5a3-2f3e-4fb5-98a3-f118b90f66e3",
   "metadata": {},
   "outputs": [
    {
     "name": "stdout",
     "output_type": "stream",
     "text": [
      "ali\n",
      "ahmed\n",
      "Dani\n"
     ]
    }
   ],
   "source": [
    "list_1=['ali','ahmed','Dani']\n",
    "for a in list_1:\n",
    "    print(a)"
   ]
  },
  {
   "cell_type": "code",
   "execution_count": 15,
   "id": "56ae8534-8540-4d3b-9795-ae4c88739c65",
   "metadata": {},
   "outputs": [
    {
     "name": "stdout",
     "output_type": "stream",
     "text": [
      "0\n",
      "2\n",
      "4\n",
      "6\n",
      "8\n",
      "10\n",
      "12\n",
      "14\n",
      "16\n",
      "18\n",
      "20\n",
      "22\n",
      "24\n",
      "26\n",
      "28\n",
      "30\n",
      "32\n",
      "34\n",
      "36\n",
      "38\n",
      "40\n",
      "42\n",
      "44\n",
      "46\n",
      "48\n",
      "50\n"
     ]
    }
   ],
   "source": [
    "a=0\n",
    "for a in range(0,52,2):\n",
    "    print(a)"
   ]
  },
  {
   "cell_type": "markdown",
   "id": "7125dff8-3326-45dd-b073-712ae31636f4",
   "metadata": {},
   "source": [
    "### if else"
   ]
  },
  {
   "cell_type": "code",
   "execution_count": 27,
   "id": "9cebca4b-a3e5-432a-ba60-858f45b20867",
   "metadata": {},
   "outputs": [
    {
     "name": "stdin",
     "output_type": "stream",
     "text": [
      "enter your marks: 22\n"
     ]
    },
    {
     "name": "stdout",
     "output_type": "stream",
     "text": [
      "fail bye \n"
     ]
    }
   ],
   "source": [
    "a=  int(input('enter your marks:' ))\n",
    "if a>50:\n",
    "    print('pass')\n",
    "if a>50 and a>80:\n",
    "    print('A GRADE')\n",
    "elif a<50:\n",
    "    print('fail bye ')\n"
   ]
  },
  {
   "cell_type": "markdown",
   "id": "c0085334-c6ab-46d0-a3a5-9baa61826264",
   "metadata": {},
   "source": [
    "### For loop"
   ]
  },
  {
   "cell_type": "code",
   "execution_count": 7,
   "id": "0bc2e662-0d27-4ce7-b617-659ed30e7fc2",
   "metadata": {},
   "outputs": [
    {
     "name": "stdout",
     "output_type": "stream",
     "text": [
      "0\n",
      "2\n",
      "4\n",
      "6\n",
      "8\n",
      "10\n",
      "12\n",
      "14\n",
      "16\n",
      "18\n",
      "20\n"
     ]
    }
   ],
   "source": [
    "a=0\n",
    "for i in range(0,21,2):\n",
    "    print(i)\n",
    "    "
   ]
  },
  {
   "cell_type": "code",
   "execution_count": null,
   "id": "64886198-3240-47ea-9260-5ee33be16a3b",
   "metadata": {},
   "outputs": [],
   "source": []
  }
 ],
 "metadata": {
  "kernelspec": {
   "display_name": "Python 3 (ipykernel)",
   "language": "python",
   "name": "python3"
  },
  "language_info": {
   "codemirror_mode": {
    "name": "ipython",
    "version": 3
   },
   "file_extension": ".py",
   "mimetype": "text/x-python",
   "name": "python",
   "nbconvert_exporter": "python",
   "pygments_lexer": "ipython3",
   "version": "3.13.0"
  }
 },
 "nbformat": 4,
 "nbformat_minor": 5
}
