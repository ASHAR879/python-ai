{
 "cells": [
  {
   "cell_type": "code",
   "execution_count": 7,
   "id": "5a50b439",
   "metadata": {},
   "outputs": [],
   "source": [
    "import pandas as pd\n",
    "import numpy as np"
   ]
  },
  {
   "cell_type": "code",
   "execution_count": 8,
   "id": "2a1de2e0",
   "metadata": {},
   "outputs": [
    {
     "data": {
      "text/plain": [
       "'2.2.3'"
      ]
     },
     "execution_count": 8,
     "metadata": {},
     "output_type": "execute_result"
    }
   ],
   "source": [
    "pd.__version__"
   ]
  },
  {
   "cell_type": "code",
   "execution_count": 10,
   "id": "07ef0b17",
   "metadata": {},
   "outputs": [
    {
     "data": {
      "text/html": [
       "<div>\n",
       "<style scoped>\n",
       "    .dataframe tbody tr th:only-of-type {\n",
       "        vertical-align: middle;\n",
       "    }\n",
       "\n",
       "    .dataframe tbody tr th {\n",
       "        vertical-align: top;\n",
       "    }\n",
       "\n",
       "    .dataframe thead th {\n",
       "        text-align: right;\n",
       "    }\n",
       "</style>\n",
       "<table border=\"1\" class=\"dataframe\">\n",
       "  <thead>\n",
       "    <tr style=\"text-align: right;\">\n",
       "      <th></th>\n",
       "      <th>0</th>\n",
       "      <th>1</th>\n",
       "      <th>2</th>\n",
       "      <th>3</th>\n",
       "      <th>4</th>\n",
       "      <th>5</th>\n",
       "      <th>6</th>\n",
       "      <th>7</th>\n",
       "    </tr>\n",
       "  </thead>\n",
       "  <tbody>\n",
       "    <tr>\n",
       "      <th>0</th>\n",
       "      <td>-1.595674</td>\n",
       "      <td>0.106440</td>\n",
       "      <td>-0.991716</td>\n",
       "      <td>0.191293</td>\n",
       "      <td>0.475621</td>\n",
       "      <td>-0.055424</td>\n",
       "      <td>-0.525166</td>\n",
       "      <td>-0.185908</td>\n",
       "    </tr>\n",
       "    <tr>\n",
       "      <th>1</th>\n",
       "      <td>-0.537591</td>\n",
       "      <td>0.064507</td>\n",
       "      <td>0.118364</td>\n",
       "      <td>0.056898</td>\n",
       "      <td>1.329993</td>\n",
       "      <td>-1.820115</td>\n",
       "      <td>0.153381</td>\n",
       "      <td>0.891849</td>\n",
       "    </tr>\n",
       "    <tr>\n",
       "      <th>2</th>\n",
       "      <td>-0.972198</td>\n",
       "      <td>-0.278267</td>\n",
       "      <td>-0.807241</td>\n",
       "      <td>0.326446</td>\n",
       "      <td>0.150180</td>\n",
       "      <td>-1.189183</td>\n",
       "      <td>-1.034968</td>\n",
       "      <td>-0.998141</td>\n",
       "    </tr>\n",
       "    <tr>\n",
       "      <th>3</th>\n",
       "      <td>0.244884</td>\n",
       "      <td>-0.551697</td>\n",
       "      <td>-1.254252</td>\n",
       "      <td>-3.381106</td>\n",
       "      <td>-2.189952</td>\n",
       "      <td>-0.003821</td>\n",
       "      <td>-0.874623</td>\n",
       "      <td>-0.096939</td>\n",
       "    </tr>\n",
       "  </tbody>\n",
       "</table>\n",
       "</div>"
      ],
      "text/plain": [
       "          0         1         2         3         4         5         6  \\\n",
       "0 -1.595674  0.106440 -0.991716  0.191293  0.475621 -0.055424 -0.525166   \n",
       "1 -0.537591  0.064507  0.118364  0.056898  1.329993 -1.820115  0.153381   \n",
       "2 -0.972198 -0.278267 -0.807241  0.326446  0.150180 -1.189183 -1.034968   \n",
       "3  0.244884 -0.551697 -1.254252 -3.381106 -2.189952 -0.003821 -0.874623   \n",
       "\n",
       "          7  \n",
       "0 -0.185908  \n",
       "1  0.891849  \n",
       "2 -0.998141  \n",
       "3 -0.096939  "
      ]
     },
     "execution_count": 10,
     "metadata": {},
     "output_type": "execute_result"
    }
   ],
   "source": [
    "a=pd.DataFrame(np.random.randn(4,8))\n",
    "a"
   ]
  },
  {
   "cell_type": "code",
   "execution_count": 16,
   "id": "38a2f42d",
   "metadata": {},
   "outputs": [
    {
     "data": {
      "text/html": [
       "<div>\n",
       "<style scoped>\n",
       "    .dataframe tbody tr th:only-of-type {\n",
       "        vertical-align: middle;\n",
       "    }\n",
       "\n",
       "    .dataframe tbody tr th {\n",
       "        vertical-align: top;\n",
       "    }\n",
       "\n",
       "    .dataframe thead th {\n",
       "        text-align: right;\n",
       "    }\n",
       "</style>\n",
       "<table border=\"1\" class=\"dataframe\">\n",
       "  <thead>\n",
       "    <tr style=\"text-align: right;\">\n",
       "      <th></th>\n",
       "      <th>A column</th>\n",
       "      <th>B column</th>\n",
       "      <th>C column</th>\n",
       "    </tr>\n",
       "  </thead>\n",
       "  <tbody>\n",
       "    <tr>\n",
       "      <th>0</th>\n",
       "      <td>1</td>\n",
       "      <td>4</td>\n",
       "      <td>7</td>\n",
       "    </tr>\n",
       "    <tr>\n",
       "      <th>1</th>\n",
       "      <td>2</td>\n",
       "      <td>5</td>\n",
       "      <td>8</td>\n",
       "    </tr>\n",
       "    <tr>\n",
       "      <th>2</th>\n",
       "      <td>3</td>\n",
       "      <td>6</td>\n",
       "      <td>9</td>\n",
       "    </tr>\n",
       "  </tbody>\n",
       "</table>\n",
       "</div>"
      ],
      "text/plain": [
       "   A column   B column   C column \n",
       "0          1          4          7\n",
       "1          2          5          8\n",
       "2          3          6          9"
      ]
     },
     "execution_count": 16,
     "metadata": {},
     "output_type": "execute_result"
    }
   ],
   "source": [
    "df=pd.DataFrame({'A column ':[1,2,3,],'B column ':[4,5,6],'C column ':[7,8,9]})\n",
    "df"
   ]
  },
  {
   "cell_type": "code",
   "execution_count": null,
   "id": "dcc8be6e",
   "metadata": {},
   "outputs": [
    {
     "name": "stdout",
     "output_type": "stream",
     "text": [
      "*****\n",
      "****\n",
      "***\n",
      "**\n",
      "*\n"
     ]
    }
   ],
   "source": [
    "\n",
    "for  i in range(5,0,-1):\n",
    "    print('*'*i)\n",
    "    "
   ]
  },
  {
   "cell_type": "code",
   "execution_count": 10,
   "id": "0b8a5c46",
   "metadata": {},
   "outputs": [
    {
     "name": "stdout",
     "output_type": "stream",
     "text": [
      "*\n",
      "**\n",
      "***\n",
      "****\n",
      "*****\n"
     ]
    }
   ],
   "source": [
    "total=5\n",
    "i=0\n",
    "while total>0:\n",
    "    i=i+1\n",
    "    print('*'*i)\n",
    "    total=total-1"
   ]
  },
  {
   "cell_type": "code",
   "execution_count": 11,
   "id": "3f9716b9",
   "metadata": {},
   "outputs": [
    {
     "name": "stdout",
     "output_type": "stream",
     "text": [
      "*****\n",
      "****\n",
      "***\n",
      "**\n",
      "*\n"
     ]
    }
   ],
   "source": [
    "total =5\n",
    "i=0\n",
    "while total>0:\n",
    "  print('*'*total)\n",
    "  total=total-1"
   ]
  },
  {
   "cell_type": "code",
   "execution_count": 2,
   "id": "7f179114",
   "metadata": {},
   "outputs": [
    {
     "name": "stdout",
     "output_type": "stream",
     "text": [
      "\n",
      "*\n",
      "**\n",
      "***\n",
      "****\n",
      "*****\n",
      "******\n"
     ]
    }
   ],
   "source": [
    "for j in range(0,7):\n",
    "    print('*'*j)\n",
    "    "
   ]
  }
 ],
 "metadata": {
  "kernelspec": {
   "display_name": "Python 3",
   "language": "python",
   "name": "python3"
  },
  "language_info": {
   "codemirror_mode": {
    "name": "ipython",
    "version": 3
   },
   "file_extension": ".py",
   "mimetype": "text/x-python",
   "name": "python",
   "nbconvert_exporter": "python",
   "pygments_lexer": "ipython3",
   "version": "3.13.0"
  }
 },
 "nbformat": 4,
 "nbformat_minor": 5
}
