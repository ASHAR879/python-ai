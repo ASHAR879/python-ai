{
 "cells": [
  {
   "cell_type": "markdown",
   "id": "e1c8bfec-2ab6-4a8e-bef9-713bfff941ee",
   "metadata": {},
   "source": [
    "### Functions\n"
   ]
  },
  {
   "cell_type": "code",
   "execution_count": 6,
   "id": "2f7f5458-ae25-4fa5-81cd-dd3ad9e5acf2",
   "metadata": {},
   "outputs": [
    {
     "name": "stdout",
     "output_type": "stream",
     "text": [
      "ashar hussnain\n"
     ]
    }
   ],
   "source": [
    "def myname(f,l):\n",
    "    print(f,l)\n",
    "myname('ashar','hussnain')\n"
   ]
  },
  {
   "cell_type": "code",
   "execution_count": 8,
   "id": "93fdc2d5-7f7e-4f26-b53a-61ea3b1ba457",
   "metadata": {},
   "outputs": [
    {
     "name": "stdout",
     "output_type": "stream",
     "text": [
      "My childs are hamza\n"
     ]
    }
   ],
   "source": [
    "def my_fun(*kid):\n",
    "    print( 'My childs are '+kid[1])\n",
    "my_fun('ali','hamza','ahmed')\n",
    "\n",
    "    "
   ]
  },
  {
   "cell_type": "code",
   "execution_count": 34,
   "id": "7a5ae68e-e1c6-44e9-9a19-595bd03987e1",
   "metadata": {},
   "outputs": [
    {
     "name": "stdout",
     "output_type": "stream",
     "text": [
      "ADD : =  5\n",
      "sub : =  -1\n",
      "multiply : =  6\n",
      "divide : =  4.0\n"
     ]
    }
   ],
   "source": [
    "def addnum(a,b):\n",
    "    result_1=a+b\n",
    "    print('ADD : = ',result_1)\n",
    "def subnum(a,b):\n",
    "    result_2=a-b\n",
    "    print('sub : = ',result_2) \n",
    "def mulnum(a,b):\n",
    "    result_3=a*b\n",
    "    print('multiply : = ',result_3)\n",
    "def dividenum(a,b):\n",
    "    result_4=a/b\n",
    "    print('divide : = ',result_4)\n",
    "    \n",
    "addnum(2,3)\n",
    "subnum(2,3)\n",
    "mulnum(2,3)\n",
    "dividenum(12,3)\n",
    "    \n",
    "    "
   ]
  },
  {
   "cell_type": "code",
   "execution_count": 35,
   "id": "c2001673-da89-4316-b3e6-a21723349858",
   "metadata": {},
   "outputs": [
    {
     "name": "stdout",
     "output_type": "stream",
     "text": [
      "ADD = 5\n",
      "SUB = 5\n",
      "MULTIPLY = 12\n",
      "Error: Division by zero\n"
     ]
    }
   ],
   "source": [
    "class Artimathic:\n",
    "    def addnum(self, a, b):\n",
    "        result_1 = a + b\n",
    "        print('ADD =', result_1)\n",
    "        return result_1\n",
    "\n",
    "    def subnum(self, a, b):\n",
    "        result_2 = a - b\n",
    "        print('SUB =', result_2)\n",
    "        return result_2\n",
    "\n",
    "    def mulnum(self, a, b):\n",
    "        result_3 = a * b\n",
    "        print('MULTIPLY =', result_3)\n",
    "        return result_3\n",
    "\n",
    "    def dividenum(self, a, b):\n",
    "        if b == 0:\n",
    "            print(\"Error: Division by zero\")\n",
    "            return None\n",
    "        result_4 = a / b\n",
    "        print('DIVIDE =', result_4)\n",
    "        return result_4\n",
    "\n",
    " \n",
    "Perform_operation = Artimathic()\n",
    "\n",
    " \n",
    "Perform_operation.addnum(2, 3)\n",
    "Perform_operation.subnum(10, 5)\n",
    "Perform_operation.mulnum(4, 3)\n",
    "Perform_operation.dividenum(10, 0)\n"
   ]
  },
  {
   "cell_type": "code",
   "execution_count": null,
   "id": "538a95cb-4b90-485d-a32f-0a4a413c6547",
   "metadata": {},
   "outputs": [],
   "source": []
  }
 ],
 "metadata": {
  "kernelspec": {
   "display_name": "Python 3 (ipykernel)",
   "language": "python",
   "name": "python3"
  },
  "language_info": {
   "codemirror_mode": {
    "name": "ipython",
    "version": 3
   },
   "file_extension": ".py",
   "mimetype": "text/x-python",
   "name": "python",
   "nbconvert_exporter": "python",
   "pygments_lexer": "ipython3",
   "version": "3.13.0"
  }
 },
 "nbformat": 4,
 "nbformat_minor": 5
}
